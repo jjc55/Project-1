{
 "cells": [
  {
   "cell_type": "code",
   "execution_count": 4,
   "metadata": {},
   "outputs": [],
   "source": [
    "#Import dependencies\n",
    "%matplotlib inline \n",
    "\n",
    "import matplotlib.pyplot as plt \n",
    "import pandas as pd\n",
    "from pathlib import Path\n",
    "import scipy.stats as st"
   ]
  },
  {
   "cell_type": "code",
   "execution_count": 5,
   "metadata": {},
   "outputs": [
    {
     "data": {
      "text/html": [
       "<div>\n",
       "<style scoped>\n",
       "    .dataframe tbody tr th:only-of-type {\n",
       "        vertical-align: middle;\n",
       "    }\n",
       "\n",
       "    .dataframe tbody tr th {\n",
       "        vertical-align: top;\n",
       "    }\n",
       "\n",
       "    .dataframe thead th {\n",
       "        text-align: right;\n",
       "    }\n",
       "</style>\n",
       "<table border=\"1\" class=\"dataframe\">\n",
       "  <thead>\n",
       "    <tr style=\"text-align: right;\">\n",
       "      <th></th>\n",
       "      <th>Month</th>\n",
       "      <th>FHFA House Price Index</th>\n",
       "      <th>Consumer Price Index</th>\n",
       "      <th>Mortgage Rate (30-Year Fixed)</th>\n",
       "    </tr>\n",
       "  </thead>\n",
       "  <tbody>\n",
       "    <tr>\n",
       "      <th>0</th>\n",
       "      <td>1/1/12</td>\n",
       "      <td>178.34</td>\n",
       "      <td>226.665</td>\n",
       "      <td>3.92</td>\n",
       "    </tr>\n",
       "    <tr>\n",
       "      <th>1</th>\n",
       "      <td>2/1/12</td>\n",
       "      <td>178.74</td>\n",
       "      <td>227.663</td>\n",
       "      <td>3.89</td>\n",
       "    </tr>\n",
       "    <tr>\n",
       "      <th>2</th>\n",
       "      <td>3/1/12</td>\n",
       "      <td>180.33</td>\n",
       "      <td>229.392</td>\n",
       "      <td>3.95</td>\n",
       "    </tr>\n",
       "    <tr>\n",
       "      <th>3</th>\n",
       "      <td>4/1/12</td>\n",
       "      <td>181.24</td>\n",
       "      <td>230.085</td>\n",
       "      <td>3.91</td>\n",
       "    </tr>\n",
       "    <tr>\n",
       "      <th>4</th>\n",
       "      <td>5/1/12</td>\n",
       "      <td>182.33</td>\n",
       "      <td>229.815</td>\n",
       "      <td>3.80</td>\n",
       "    </tr>\n",
       "  </tbody>\n",
       "</table>\n",
       "</div>"
      ],
      "text/plain": [
       "    Month  FHFA House Price Index  Consumer Price Index  \\\n",
       "0  1/1/12                  178.34               226.665   \n",
       "1  2/1/12                  178.74               227.663   \n",
       "2  3/1/12                  180.33               229.392   \n",
       "3  4/1/12                  181.24               230.085   \n",
       "4  5/1/12                  182.33               229.815   \n",
       "\n",
       "   Mortgage Rate (30-Year Fixed)  \n",
       "0                           3.92  \n",
       "1                           3.89  \n",
       "2                           3.95  \n",
       "3                           3.91  \n",
       "4                           3.80  "
      ]
     },
     "execution_count": 5,
     "metadata": {},
     "output_type": "execute_result"
    }
   ],
   "source": [
    "#Open CSV file using pandas and convert to dataframe\n",
    "housing_info= Path(\"/Users/coderjuhi/Desktop/Projects/JC Branch/US House Price and Mortgage Rate.csv\")\n",
    "ready_to_use = pd.read_csv(housing_info)\n",
    "ready_to_use.head()"
   ]
  },
  {
   "cell_type": "code",
   "execution_count": 6,
   "metadata": {},
   "outputs": [
    {
     "name": "stdout",
     "output_type": "stream",
     "text": [
      "The r-squared value is -0.007304294665406224.\n"
     ]
    },
    {
     "data": {
      "image/png": "[encoded data removed]",
      "text/plain": [
       "<Figure size 432x288 with 1 Axes>"
      ]
     },
     "metadata": {
      "needs_background": "light"
     },
     "output_type": "display_data"
    }
   ],
   "source": [
    "x_values = ready_to_use[\"FHFA House Price Index\"]\n",
    "y_values = ready_to_use[\"Mortgage Rate (30-Year Fixed)\"] \n",
    "\n",
    "plt.scatter(x_values,y_values)\n",
    "plt.title(\"US House Price Index vs. Mortgage Rate (30-Year Fixed)\")\n",
    "plt.xlabel(\"US House Price Index\")\n",
    "plt.ylabel(\"Mortgage Rate (30-Year Fixed)\")\n",
    "\n",
    "(slope, intercept, rvalue, pvalue, stderr) = st.linregress(x_values, y_values)\n",
    "regress_values = x_values * slope + intercept\n",
    "line_eq = \"y = \" + str(round(slope,2)) + \"x + \" + str(round(intercept,2))\n",
    "plt.plot(x_values,regress_values,\"r-\")\n",
    "plt.annotate(line_eq, (200, 5.8), fontsize=14, color=\"red\")\n",
    "print(f\"The r-squared value is {rvalue}.\")\n",
    "plt.savefig('housepriceindex_mortgagerate.png')"
   ]
  }
 ],
 "metadata": {
  "kernelspec": {
   "display_name": "base",
   "language": "python",
   "name": "python3"
  },
  "language_info": {
   "codemirror_mode": {
    "name": "ipython",
    "version": 3
   },
   "file_extension": ".py",
   "mimetype": "text/x-python",
   "name": "python",
   "nbconvert_exporter": "python",
   "pygments_lexer": "ipython3",
   "version": "3.8.5"
  },
  "orig_nbformat": 4
 },
 "nbformat": 4,
 "nbformat_minor": 2
}
